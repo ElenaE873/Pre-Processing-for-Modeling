{
 "cells": [
  {
   "cell_type": "markdown",
   "id": "563caff6",
   "metadata": {},
   "source": [
    "### Dummy Variables"
   ]
  },
  {
   "cell_type": "markdown",
   "id": "12756fb4",
   "metadata": {},
   "source": [
    "- encoding categorical values numerically as \"0's\" and \"1's\""
   ]
  },
  {
   "cell_type": "markdown",
   "id": "e9c8e00d",
   "metadata": {},
   "source": [
    "- **0**: Observation was NOT that category\n",
    "- **1**: Observation was that category"
   ]
  },
  {
   "cell_type": "markdown",
   "id": "fce6a1de",
   "metadata": {},
   "source": [
    "note: *more of this information is in another notebook :) I will have to find it and will reference it*"
   ]
  },
  {
   "cell_type": "markdown",
   "id": "384fdfdf",
   "metadata": {},
   "source": [
    "### Encoding Binary Variables (in pandas)"
   ]
  },
  {
   "cell_type": "code",
   "execution_count": null,
   "id": "75b569a2",
   "metadata": {},
   "outputs": [],
   "source": [
    "#writing a conditional with pandas using labmda\n",
    "df[\"col_enc\"] = df[\"col\"].apply(lambda val:\n",
    "                               1 if val == \"y\", else 0)\n",
    "\n",
    "#or using the getdummies function in pandas\n",
    "print(pd.getdummies(df[\"column\"]))"
   ]
  },
  {
   "cell_type": "code",
   "execution_count": null,
   "id": "b52ff293",
   "metadata": {},
   "outputs": [],
   "source": [
    "#doing so with scikit-learn\n",
    "from sklearn.preprocessing import LabelEncoder\n",
    "\n",
    "le = LabelEncoder()\n",
    "df[\"col_enc_le\"] = le.fit_transform(df[\"col\"])"
   ]
  }
 ],
 "metadata": {
  "kernelspec": {
   "display_name": "Python 3 (ipykernel)",
   "language": "python",
   "name": "python3"
  },
  "language_info": {
   "codemirror_mode": {
    "name": "ipython",
    "version": 3
   },
   "file_extension": ".py",
   "mimetype": "text/x-python",
   "name": "python",
   "nbconvert_exporter": "python",
   "pygments_lexer": "ipython3",
   "version": "3.9.7"
  }
 },
 "nbformat": 4,
 "nbformat_minor": 5
}
