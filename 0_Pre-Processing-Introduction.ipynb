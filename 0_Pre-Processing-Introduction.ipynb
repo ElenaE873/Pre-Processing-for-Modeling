{
 "cells": [
  {
   "cell_type": "markdown",
   "id": "b7dc9569",
   "metadata": {},
   "source": [
    "### Pre-Processing"
   ]
  },
  {
   "cell_type": "markdown",
   "id": "3f3794af",
   "metadata": {},
   "source": [
    "- Step after data has been cleaned (and eda has been performed for understanding of the dataset) | this sets the tone for how you may want to model the data.\n",
    "- Models in python require numerical input, therefore all categorical values must be transformed to numerical inputs."
   ]
  },
  {
   "cell_type": "markdown",
   "id": "465b320b",
   "metadata": {},
   "source": [
    "#### Pre-Processing Components"
   ]
  },
  {
   "cell_type": "markdown",
   "id": "2928343f",
   "metadata": {},
   "source": [
    "- 1 - Ensuring all data input is numerical (ie. handling categorical variables).\n",
    "- 2 - Ensuring the right data types for data in features\n",
    "- 3 - Splitting the dataset into train/test split \n",
    "    - using stratified sampling, especially when you have imbalanced classes\n",
    "- 4 - Standardization: the preprocessing method of transforming continous data to make it look normally distributed\n",
    "    - sometimes necessary because most models assume the training is on datasets that are normally distributed data\n",
    "    - two ways you can do this: (1) Log Normalization and (2) Scaling"
   ]
  },
  {
   "cell_type": "code",
   "execution_count": null,
   "id": "6ef5c9a1",
   "metadata": {},
   "outputs": [],
   "source": [
    "#stratified sampling check steps\n",
    "\n",
    "#creating X and y\n",
    "X = data.drop(\"labels\", axis=1)\n",
    "y = data[[\"labels\"]]\n",
    "\n",
    "#total label counts\n",
    "y[\"labels\"].value_counts()\n",
    "\n",
    "#run train/test split and stratify with y\n",
    "X_train, X_test, y_train, y_test = train_test_split(X, y, stratify=y)\n",
    "\n",
    "#checking the distribution of y_train and y_test value counts\n",
    "y_train[\"labels\"].value_counts()\n",
    "y_test[\"labels\"].value_counts()"
   ]
  },
  {
   "cell_type": "markdown",
   "id": "00653f0c",
   "metadata": {},
   "source": [
    "#### When to Standardize"
   ]
  },
  {
   "cell_type": "markdown",
   "id": "2c81c9d0",
   "metadata": {},
   "source": [
    "- when working with linear models or in the linear space ; the model assumes the data must be in some way related linearly and can be measured by a linear metric.\n",
    "\n",
    "- dataset feature have high variance (and posibility of bias in the modeling)\n",
    "\n",
    "- dataset features are continuous and on different scales"
   ]
  },
  {
   "cell_type": "markdown",
   "id": "30f49616",
   "metadata": {},
   "source": [
    "#### When to Scale"
   ]
  },
  {
   "cell_type": "markdown",
   "id": "867db09a",
   "metadata": {},
   "source": [
    "- features on different scales\n",
    "- model operates with linear characteristics"
   ]
  },
  {
   "cell_type": "markdown",
   "id": "0c0575be",
   "metadata": {},
   "source": [
    "Scaling:\n",
    "- center features around 0 and transform unit variance\n",
    "- transforms to approximately normal distribution"
   ]
  },
  {
   "cell_type": "markdown",
   "id": "44d4c1bf",
   "metadata": {},
   "source": [
    "Ways:\n",
    "- one of which is the StandardScaler"
   ]
  }
 ],
 "metadata": {
  "kernelspec": {
   "display_name": "Python 3 (ipykernel)",
   "language": "python",
   "name": "python3"
  },
  "language_info": {
   "codemirror_mode": {
    "name": "ipython",
    "version": 3
   },
   "file_extension": ".py",
   "mimetype": "text/x-python",
   "name": "python",
   "nbconvert_exporter": "python",
   "pygments_lexer": "ipython3",
   "version": "3.9.7"
  }
 },
 "nbformat": 4,
 "nbformat_minor": 5
}
