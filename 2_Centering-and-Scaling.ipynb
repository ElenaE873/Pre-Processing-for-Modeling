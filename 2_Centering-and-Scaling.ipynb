{
 "cells": [
  {
   "cell_type": "markdown",
   "id": "b35fbf96",
   "metadata": {},
   "source": [
    "note: *there is some information regarding handling missing data with an Imputer and Pipeline preprocessing in the \"Data Manipulation repo\" under the Missing Values notebook.*"
   ]
  },
  {
   "cell_type": "markdown",
   "id": "b22094a5",
   "metadata": {},
   "source": [
    "### Why scale data?"
   ]
  },
  {
   "cell_type": "markdown",
   "id": "a7ad49ec",
   "metadata": {},
   "source": [
    "- Many models use some form of distance to inform the results\n",
    "- Features on larger scales can influence the model heavily towards an \"artificial\" bias\n",
    "- This is why we would want the features to be **on a similar scale**"
   ]
  },
  {
   "cell_type": "markdown",
   "id": "89d3e6ed",
   "metadata": {},
   "source": [
    "### Normalizing (Scaling and Centering)"
   ]
  },
  {
   "cell_type": "markdown",
   "id": "57c8afb6",
   "metadata": {},
   "source": [
    "- **Standardization** \n",
    "    - All features are centered around zero, and have a variance of 1\n",
    "- can also create a dataset to range from zero to 1\n",
    "- or data ranges from -1 to 1"
   ]
  },
  {
   "cell_type": "code",
   "execution_count": null,
   "id": "fea8074d",
   "metadata": {},
   "outputs": [],
   "source": [
    "from sklearn.preprocessing import scale\n",
    "X_scaled = scale(X)"
   ]
  },
  {
   "cell_type": "code",
   "execution_count": null,
   "id": "e0c52a15",
   "metadata": {},
   "outputs": [],
   "source": [
    "np.mean(X), np.std(X)"
   ]
  },
  {
   "cell_type": "code",
   "execution_count": null,
   "id": "89d89aef",
   "metadata": {},
   "outputs": [],
   "source": [
    "np.mean(X_scaled), np.std(X_scaled)"
   ]
  },
  {
   "cell_type": "markdown",
   "id": "e34960e8",
   "metadata": {},
   "source": [
    "#### Putting a Scaler in a Pipeline Object"
   ]
  },
  {
   "cell_type": "code",
   "execution_count": null,
   "id": "fc485c47",
   "metadata": {},
   "outputs": [],
   "source": [
    "from sklearn.preprocessing import StandardScaler\n",
    "\n",
    "steps = [('scaler', StandardScaler()),\n",
    "        ('knn', KNeighborsClassifier())]\n",
    "\n",
    "pipeline = Pipeline(steps)\n",
    "\n",
    "X_train, X_test, y_train, y_test = train_test_split(X, y,\n",
    "                                                   test_size = 0.2, \n",
    "                                                   random_state = 21)\n",
    "\n",
    "knn_scaled = pipeline.fit(X_train, y_train)\n",
    "y_pred = pipeline.predict(X_test)"
   ]
  },
  {
   "cell_type": "markdown",
   "id": "50ffa56c",
   "metadata": {},
   "source": [
    "#### CV and Scaling in a Pipeline"
   ]
  },
  {
   "cell_type": "code",
   "execution_count": null,
   "id": "f018fe34",
   "metadata": {},
   "outputs": [],
   "source": [
    "steps = [('scaler', StandardScaler()),\n",
    "        ('knn', KNeighborsClassifier())]\n",
    "\n",
    "pipeline = Pipeline(steps)\n",
    "\n",
    "parameters = {knn__n_neighbors: np.arange(1, 50)}\n",
    "\n",
    "X_train, X_test, y_train, y_test = train_test_split(X, y,\n",
    "                                                   test_size = 0.2, \n",
    "                                                   random_state = 21)\n",
    "\n",
    "cv = GridSearchCV(pipeline, param_grid = parameters)\n",
    "\n",
    "cv.fit(X_train, y_train)\n",
    "y_pred = cv.predict(X_test)\n",
    "\n",
    "print(cv.best_params_)\n",
    "print(cv.score(X_test, y_test))\n",
    "print(classification_report(y_test, y_pred))"
   ]
  },
  {
   "cell_type": "markdown",
   "id": "88cf6531",
   "metadata": {},
   "source": [
    "#### Scaling"
   ]
  },
  {
   "cell_type": "code",
   "execution_count": null,
   "id": "0843728d",
   "metadata": {},
   "outputs": [],
   "source": [
    "# Import scale\n",
    "from sklearn.preprocessing import scale\n",
    "\n",
    "# Scale the features: X_scaled\n",
    "X_scaled = scale(X)\n",
    "\n",
    "# Print the mean and standard deviation of the unscaled features\n",
    "print(\"Mean of Unscaled Features: {}\".format(np.mean(X))) \n",
    "print(\"Standard Deviation of Unscaled Features: {}\".format(np.std(X)))\n",
    "\n",
    "# Print the mean and standard deviation of the scaled features\n",
    "print(\"Mean of Scaled Features: {}\".format(np.mean(X_scaled))) \n",
    "print(\"Standard Deviation of Scaled Features: {}\".format(np.std(X_scaled)))\n",
    "\n",
    "# Import the necessary modules\n",
    "from sklearn.preprocessing import StandardScaler\n",
    "from sklearn.pipeline import Pipeline\n",
    "\n",
    "# Setup the pipeline steps: steps\n",
    "steps = [('scaler', StandardScaler()),\n",
    "        ('knn', KNeighborsClassifier())]\n",
    "        \n",
    "# Create the pipeline: pipeline\n",
    "pipeline = Pipeline(steps)\n",
    "\n",
    "# Create train and test sets\n",
    "X_train, X_test, y_train, y_test = train_test_split(X, y, test_size=0.3, random_state=42)\n",
    "\n",
    "# Fit the pipeline to the training set: knn_scaled\n",
    "knn_scaled = pipeline.fit(X_train, y_train)\n",
    "\n",
    "# Instantiate and fit a k-NN classifier to the unscaled data\n",
    "knn_unscaled = KNeighborsClassifier().fit(X_train, y_train)\n",
    "\n",
    "# Compute and print metrics\n",
    "print('Accuracy with Scaling: {}'.format(knn_scaled.score(X_test, y_test)))\n",
    "print('Accuracy without Scaling: {}'.format(knn_unscaled.score(X_test, y_test)))\n"
   ]
  }
 ],
 "metadata": {
  "kernelspec": {
   "display_name": "Python 3 (ipykernel)",
   "language": "python",
   "name": "python3"
  },
  "language_info": {
   "codemirror_mode": {
    "name": "ipython",
    "version": 3
   },
   "file_extension": ".py",
   "mimetype": "text/x-python",
   "name": "python",
   "nbconvert_exporter": "python",
   "pygments_lexer": "ipython3",
   "version": "3.9.7"
  }
 },
 "nbformat": 4,
 "nbformat_minor": 5
}
