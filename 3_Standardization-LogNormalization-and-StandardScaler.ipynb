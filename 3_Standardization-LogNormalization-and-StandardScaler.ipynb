{
 "cells": [
  {
   "cell_type": "markdown",
   "id": "eb832d91",
   "metadata": {},
   "source": [
    "### Log Normalization"
   ]
  },
  {
   "cell_type": "code",
   "execution_count": null,
   "id": "66f8f4fd",
   "metadata": {},
   "outputs": [],
   "source": [
    "#checking variance of columns\n",
    "print(df.var())"
   ]
  },
  {
   "cell_type": "code",
   "execution_count": null,
   "id": "45239a80",
   "metadata": {},
   "outputs": [],
   "source": [
    "#apply log normalization to a column\n",
    "import numpy as np\n",
    "df[\"log_col_2\"] = np.log(df[\"col2\"])\n",
    "\n",
    "#checking the differences by viewing the df\n",
    "print(df)\n",
    "\n",
    "#checking the variance of col2 and log_col_2\n",
    "print(np.var(df[[\"col2\", \"log_2\"]]))\n",
    "\n",
    "#checking to see how the variable compares to a previous colum\n",
    "#and the transformed column is also wise to see variance across dataset"
   ]
  },
  {
   "cell_type": "markdown",
   "id": "b6c389c6",
   "metadata": {},
   "source": [
    "### StandardScaler"
   ]
  },
  {
   "cell_type": "code",
   "execution_count": null,
   "id": "ab9a5d92",
   "metadata": {},
   "outputs": [],
   "source": [
    "from sklearn.preprocessing import StandardScaler\n",
    "\n",
    "scaler = StandardScaler()\n",
    "df_scaled = pd.DataFrame(scaler.fit_transform(df), columns=df.columns)\n",
    "\n",
    "#checking df_scaled\n",
    "print(df_scaled)\n",
    "\n",
    "#checking variance by column\n",
    "print(df.var())"
   ]
  }
 ],
 "metadata": {
  "kernelspec": {
   "display_name": "Python 3 (ipykernel)",
   "language": "python",
   "name": "python3"
  },
  "language_info": {
   "codemirror_mode": {
    "name": "ipython",
    "version": 3
   },
   "file_extension": ".py",
   "mimetype": "text/x-python",
   "name": "python",
   "nbconvert_exporter": "python",
   "pygments_lexer": "ipython3",
   "version": "3.9.7"
  }
 },
 "nbformat": 4,
 "nbformat_minor": 5
}
